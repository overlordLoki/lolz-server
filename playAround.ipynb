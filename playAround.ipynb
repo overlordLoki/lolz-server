{
 "cells": [
  {
   "cell_type": "code",
   "execution_count": 1,
   "metadata": {},
   "outputs": [],
   "source": [
    "import pandas as pd\n",
    "import sqlalchemy as sql\n",
    "import database as db\n",
    "import betSim as bs\n",
    "import mysql.connector as mysql\n",
    "from itertools import combinations\n",
    "import matplotlib.pyplot as plt\n",
    "import matplotlib.ticker as ticker\n",
    "df_testing = pd.read_sql_query('SELECT * FROM games WHERE tournamentID = 1', db.engine)\n"
   ]
  },
  {
   "cell_type": "code",
   "execution_count": 2,
   "metadata": {},
   "outputs": [],
   "source": [
    "all_keys = ['banList','isFirstOfMatch','isLastOfMatch','isSecondOfMatch']\n",
    "keys = ['banList']\n",
    "units , wins, loses, winrate, banList, totalbets, bestunitsovertime, bestKeySet = bs.bestKeysSim(df_testing, keys)"
   ]
  },
  {
   "cell_type": "code",
   "execution_count": 3,
   "metadata": {},
   "outputs": [
    {
     "name": "stdout",
     "output_type": "stream",
     "text": [
      "best outcome: \n",
      "best key set: \n",
      "['banList']\n",
      "best exclude list: \n",
      "['Kwangdong Freecs', 'DWG KIA']\n",
      "units: 130.86999999999992\n",
      "wins: 89\n",
      "loses: 43\n",
      "total bets: 132\n",
      "winrate: 0.67\n"
     ]
    }
   ],
   "source": [
    "print('best outcome: ')\n",
    "print('best key set: ')\n",
    "print(bestKeySet)\n",
    "print('best exclude list: ')\n",
    "print(banList)\n",
    "print(f'units: {str(units)}')\n",
    "print(f'wins: {str(wins)}')\n",
    "print(f'loses: {str(loses)}')\n",
    "print(f'total bets: {str(totalbets)}')\n",
    "print(f'winrate: {str(winrate)}')\n"
   ]
  },
  {
   "cell_type": "code",
   "execution_count": null,
   "metadata": {},
   "outputs": [],
   "source": []
  },
  {
   "cell_type": "code",
   "execution_count": 4,
   "metadata": {},
   "outputs": [
    {
     "data": {
      "image/png": "[encoded data removed]",
      "text/plain": [
       "<Figure size 504x504 with 1 Axes>"
      ]
     },
     "metadata": {
      "needs_background": "light"
     },
     "output_type": "display_data"
    }
   ],
   "source": [
    "fig = plt.figure(figsize=(7,7))\n",
    "ax = fig.add_subplot(111)\n",
    "ax.plot(bestunitsovertime)\n",
    "ax.set_xlabel('Number of games')\n",
    "ax.set_ylabel('Units')\n",
    "ax.xaxis.set_major_locator(ticker.MultipleLocator(10))\n",
    "ax.tick_params(axis='x', rotation=45)"
   ]
  },
  {
   "cell_type": "code",
   "execution_count": 5,
   "metadata": {},
   "outputs": [],
   "source": [
    "#make all the different dfs for different conditions\n",
    "df_firstOfMatch = pd.read_sql_query('SELECT * FROM games WHERE tournamentID = 1 and Num_in_Match = 1', db.engine)"
   ]
  },
  {
   "cell_type": "code",
   "execution_count": 2,
   "metadata": {},
   "outputs": [],
   "source": [
    "#function to get the best key combinations\n",
    "def bestKeysSim(df_testing, keys):\n",
    "    #set starting values\n",
    "    units =100.0\n",
    "    wins = 0\n",
    "    loses = 0\n",
    "    bestbanlist = []\n",
    "    bestunitsovertime = []\n",
    "    bestKeySet = []\n",
    "    keysCombo = bs.makeCombonations(keys)\n",
    "    for keylist in keysCombo:\n",
    "        testUnits = 100\n",
    "        testWins = 0\n",
    "        testLoses = 0\n",
    "        testUnitsOvertime = []\n",
    "        testbanlist = []\n",
    "        #units , wins , loses , banList, bestunitsovertime\n",
    "        testUnits , testWins, testLoses, testbanlist, testUnitsOvertime = bs.runSim(df_testing, 'under', 21.5, 'kills', keylist )\n",
    "        if(testUnits > units):\n",
    "            units = testUnits\n",
    "            wins = testWins\n",
    "            loses = testLoses\n",
    "            bestbanlist = testbanlist\n",
    "            bestunitsovertime = testUnitsOvertime\n",
    "            bestKeySet = keylist\n",
    "        \n",
    "    totalbets = wins + loses\n",
    "    winrate = round(wins/totalbets,2)\n",
    "    return units , wins, loses, winrate, bestbanlist, totalbets, bestunitsovertime, bestKeySet"
   ]
  },
  {
   "cell_type": "code",
   "execution_count": 4,
   "metadata": {},
   "outputs": [],
   "source": [
    "df_numInMatch = pd.read_sql_query('SELECT matchID, COUNT(matchID) FROM games GROUP BY matchID', db.engine)\n"
   ]
  },
  {
   "cell_type": "code",
   "execution_count": null,
   "metadata": {},
   "outputs": [],
   "source": []
  }
 ],
 "metadata": {
  "kernelspec": {
   "display_name": "Python 3.10.4 64-bit",
   "language": "python",
   "name": "python3"
  },
  "language_info": {
   "codemirror_mode": {
    "name": "ipython",
    "version": 3
   },
   "file_extension": ".py",
   "mimetype": "text/x-python",
   "name": "python",
   "nbconvert_exporter": "python",
   "pygments_lexer": "ipython3",
   "version": "3.10.4"
  },
  "orig_nbformat": 4,
  "vscode": {
   "interpreter": {
    "hash": "102d927d7cd6c9f541c7b7496c6cf931d1c101ccf1482e5917cc46640c1e3602"
   }
  }
 },
 "nbformat": 4,
 "nbformat_minor": 2
}
