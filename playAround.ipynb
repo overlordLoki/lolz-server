{
 "cells": [
  {
   "cell_type": "code",
   "execution_count": 1,
   "metadata": {},
   "outputs": [],
   "source": [
    "import pandas as pd\n",
    "import sqlalchemy as sql\n",
    "import database as db\n",
    "import betSim as bs\n",
    "import mysql.connector as mysql"
   ]
  },
  {
   "cell_type": "code",
   "execution_count": 2,
   "metadata": {},
   "outputs": [
    {
     "data": {
      "text/html": [
       "<div>\n",
       "<style scoped>\n",
       "    .dataframe tbody tr th:only-of-type {\n",
       "        vertical-align: middle;\n",
       "    }\n",
       "\n",
       "    .dataframe tbody tr th {\n",
       "        vertical-align: top;\n",
       "    }\n",
       "\n",
       "    .dataframe thead th {\n",
       "        text-align: right;\n",
       "    }\n",
       "</style>\n",
       "<table border=\"1\" class=\"dataframe\">\n",
       "  <thead>\n",
       "    <tr style=\"text-align: right;\">\n",
       "      <th></th>\n",
       "      <th>tournamentID</th>\n",
       "      <th>tournament_name</th>\n",
       "      <th>year</th>\n",
       "      <th>region</th>\n",
       "    </tr>\n",
       "  </thead>\n",
       "  <tbody>\n",
       "    <tr>\n",
       "      <th>0</th>\n",
       "      <td>1</td>\n",
       "      <td>LCK_Spring_2022</td>\n",
       "      <td>2022</td>\n",
       "      <td>LCK</td>\n",
       "    </tr>\n",
       "    <tr>\n",
       "      <th>1</th>\n",
       "      <td>2</td>\n",
       "      <td>LCK_Spring_Playoffs_2022</td>\n",
       "      <td>2022</td>\n",
       "      <td>LCK</td>\n",
       "    </tr>\n",
       "    <tr>\n",
       "      <th>2</th>\n",
       "      <td>3</td>\n",
       "      <td>LPL_Spring_2022</td>\n",
       "      <td>2022</td>\n",
       "      <td>LPL</td>\n",
       "    </tr>\n",
       "    <tr>\n",
       "      <th>3</th>\n",
       "      <td>4</td>\n",
       "      <td>LPL_Spring_Playoffs_2022</td>\n",
       "      <td>2022</td>\n",
       "      <td>LPL</td>\n",
       "    </tr>\n",
       "    <tr>\n",
       "      <th>4</th>\n",
       "      <td>5</td>\n",
       "      <td>LEC_Spring_2022</td>\n",
       "      <td>2022</td>\n",
       "      <td>LEC</td>\n",
       "    </tr>\n",
       "    <tr>\n",
       "      <th>5</th>\n",
       "      <td>6</td>\n",
       "      <td>LEC_Spring_Playoffs_2022</td>\n",
       "      <td>2022</td>\n",
       "      <td>LEC</td>\n",
       "    </tr>\n",
       "    <tr>\n",
       "      <th>6</th>\n",
       "      <td>7</td>\n",
       "      <td>LCS_Spring_2022</td>\n",
       "      <td>2022</td>\n",
       "      <td>LCS</td>\n",
       "    </tr>\n",
       "    <tr>\n",
       "      <th>7</th>\n",
       "      <td>8</td>\n",
       "      <td>LCS_Spring_Playoffs_2022</td>\n",
       "      <td>2022</td>\n",
       "      <td>LCS</td>\n",
       "    </tr>\n",
       "    <tr>\n",
       "      <th>8</th>\n",
       "      <td>9</td>\n",
       "      <td>MSI_2022</td>\n",
       "      <td>2022</td>\n",
       "      <td>MSI</td>\n",
       "    </tr>\n",
       "    <tr>\n",
       "      <th>9</th>\n",
       "      <td>10</td>\n",
       "      <td>LCK_Summer_2022</td>\n",
       "      <td>2022</td>\n",
       "      <td>LCK</td>\n",
       "    </tr>\n",
       "    <tr>\n",
       "      <th>10</th>\n",
       "      <td>11</td>\n",
       "      <td>LPL_Summer_2022</td>\n",
       "      <td>2022</td>\n",
       "      <td>LPL</td>\n",
       "    </tr>\n",
       "    <tr>\n",
       "      <th>11</th>\n",
       "      <td>12</td>\n",
       "      <td>LEC_Summer_2022</td>\n",
       "      <td>2022</td>\n",
       "      <td>LEC</td>\n",
       "    </tr>\n",
       "    <tr>\n",
       "      <th>12</th>\n",
       "      <td>13</td>\n",
       "      <td>LCS_Summer_2022</td>\n",
       "      <td>2022</td>\n",
       "      <td>LCS</td>\n",
       "    </tr>\n",
       "  </tbody>\n",
       "</table>\n",
       "</div>"
      ],
      "text/plain": [
       "    tournamentID           tournament_name  year region\n",
       "0              1           LCK_Spring_2022  2022    LCK\n",
       "1              2  LCK_Spring_Playoffs_2022  2022    LCK\n",
       "2              3           LPL_Spring_2022  2022    LPL\n",
       "3              4  LPL_Spring_Playoffs_2022  2022    LPL\n",
       "4              5           LEC_Spring_2022  2022    LEC\n",
       "5              6  LEC_Spring_Playoffs_2022  2022    LEC\n",
       "6              7           LCS_Spring_2022  2022    LCS\n",
       "7              8  LCS_Spring_Playoffs_2022  2022    LCS\n",
       "8              9                  MSI_2022  2022    MSI\n",
       "9             10           LCK_Summer_2022  2022    LCK\n",
       "10            11           LPL_Summer_2022  2022    LPL\n",
       "11            12           LEC_Summer_2022  2022    LEC\n",
       "12            13           LCS_Summer_2022  2022    LCS"
      ]
     },
     "execution_count": 2,
     "metadata": {},
     "output_type": "execute_result"
    }
   ],
   "source": [
    "db.getTournaments()"
   ]
  },
  {
   "cell_type": "code",
   "execution_count": 8,
   "metadata": {},
   "outputs": [
    {
     "name": "stdout",
     "output_type": "stream",
     "text": [
      "units: 147.86000000000044\n"
     ]
    }
   ],
   "source": [
    "# very basic simulation of a beting strategy\n",
    "units =100.0\n",
    "for i in range(len(df)):\n",
    "    if (units < 1):\n",
    "        print(f'no more units left after {str(i)} games')\n",
    "        break\n",
    "    outcome = bs.towerBet(i, df, 'under', 11.5)\n",
    "    if(outcome == 1):\n",
    "        units += 0.83\n",
    "    else:\n",
    "        units -= 1\n",
    "\n",
    "print(f'units: {str(units)}')"
   ]
  },
  {
   "cell_type": "code",
   "execution_count": 5,
   "metadata": {},
   "outputs": [
    {
     "name": "stdout",
     "output_type": "stream",
     "text": [
      "[('information_schema',), ('lolz',), ('mysql',), ('performance_schema',), ('sys',), ('test',)]\n"
     ]
    }
   ],
   "source": [
    "#test if the database is working\n",
    "db_test = mysql.connect(host='140.238.205.186', user='loki', passwd='Thethethe3!', database='lolz')\n",
    "mycursor = db_test.cursor()\n",
    "mycursor.execute('SHOW DATABASES')\n",
    "print(mycursor.fetchall())"
   ]
  }
 ],
 "metadata": {
  "kernelspec": {
   "display_name": "Python 3.10.4 64-bit",
   "language": "python",
   "name": "python3"
  },
  "language_info": {
   "codemirror_mode": {
    "name": "ipython",
    "version": 3
   },
   "file_extension": ".py",
   "mimetype": "text/x-python",
   "name": "python",
   "nbconvert_exporter": "python",
   "pygments_lexer": "ipython3",
   "version": "3.10.4"
  },
  "orig_nbformat": 4,
  "vscode": {
   "interpreter": {
    "hash": "102d927d7cd6c9f541c7b7496c6cf931d1c101ccf1482e5917cc46640c1e3602"
   }
  }
 },
 "nbformat": 4,
 "nbformat_minor": 2
}
