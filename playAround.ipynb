{
 "cells": [
  {
   "cell_type": "code",
   "execution_count": 1,
   "metadata": {},
   "outputs": [],
   "source": [
    "import pandas as pd\n",
    "import database as db\n",
    "import betSim as bs\n",
    "import matplotlib.pyplot as plt\n",
    "import matplotlib.ticker as ticker\n",
    "df_testing = pd.read_sql_query('SELECT * FROM games WHERE tournamentID = 1', db.engine)\n"
   ]
  },
  {
   "cell_type": "code",
   "execution_count": 2,
   "metadata": {},
   "outputs": [
    {
     "name": "stdout",
     "output_type": "stream",
     "text": [
      "number of sims done: 6\n"
     ]
    }
   ],
   "source": [
    "all_keys = ['banList','isFirstOfMatch','isLastOfMatch','isSecondOfMatch','isNotFirstOfMatch','AvgTotalKillsLessThan']\n",
    "all_bet_types = ['kills','dragons','barons','tower','gameTime']\n",
    "keys = []\n",
    "betTypes = ['kills']\n",
    "df_top10_keys, count = bs.bestKeysSim(df_testing, keys,betTypes)\n",
    "print(f'number of sims done: {str(count)}')"
   ]
  },
  {
   "cell_type": "code",
   "execution_count": 3,
   "metadata": {},
   "outputs": [
    {
     "name": "stdout",
     "output_type": "stream",
     "text": [
      "outcome: \n",
      "units: 124.06999999999978\n",
      "wins: 129\n",
      "loses: 83\n",
      "total bets: 212\n",
      "winrate: 0.61\n",
      "choice: under\n",
      "key set: []\n",
      "exclude list: []\n"
     ]
    }
   ],
   "source": [
    "bs.printSim(df_top10_keys,0)\n"
   ]
  },
  {
   "cell_type": "code",
   "execution_count": 4,
   "metadata": {},
   "outputs": [
    {
     "data": {
      "text/html": [
       "<div>\n",
       "<style scoped>\n",
       "    .dataframe tbody tr th:only-of-type {\n",
       "        vertical-align: middle;\n",
       "    }\n",
       "\n",
       "    .dataframe tbody tr th {\n",
       "        vertical-align: top;\n",
       "    }\n",
       "\n",
       "    .dataframe thead th {\n",
       "        text-align: right;\n",
       "    }\n",
       "</style>\n",
       "<table border=\"1\" class=\"dataframe\">\n",
       "  <thead>\n",
       "    <tr style=\"text-align: right;\">\n",
       "      <th></th>\n",
       "      <th>units</th>\n",
       "      <th>wins</th>\n",
       "      <th>loses</th>\n",
       "      <th>totalbets</th>\n",
       "      <th>winrate</th>\n",
       "      <th>unitsovertime</th>\n",
       "      <th>banList</th>\n",
       "      <th>KeySet</th>\n",
       "      <th>betType</th>\n",
       "      <th>choice</th>\n",
       "    </tr>\n",
       "  </thead>\n",
       "  <tbody>\n",
       "    <tr>\n",
       "      <th>0</th>\n",
       "      <td>124.07</td>\n",
       "      <td>129</td>\n",
       "      <td>83</td>\n",
       "      <td>212</td>\n",
       "      <td>0.61</td>\n",
       "      <td>[100.0, 99.0, 99.83, 98.83, 99.66, 100.49, 99....</td>\n",
       "      <td>[]</td>\n",
       "      <td>[]</td>\n",
       "      <td>kills</td>\n",
       "      <td>under</td>\n",
       "    </tr>\n",
       "    <tr>\n",
       "      <th>1</th>\n",
       "      <td>38.06</td>\n",
       "      <td>82</td>\n",
       "      <td>130</td>\n",
       "      <td>212</td>\n",
       "      <td>0.39</td>\n",
       "      <td>[100.0, 99.0, 98.0, 98.83, 97.83, 96.83, 97.66...</td>\n",
       "      <td>[]</td>\n",
       "      <td>[]</td>\n",
       "      <td>kills</td>\n",
       "      <td>over</td>\n",
       "    </tr>\n",
       "  </tbody>\n",
       "</table>\n",
       "</div>"
      ],
      "text/plain": [
       "    units  wins  loses  totalbets  winrate  \\\n",
       "0  124.07   129     83        212     0.61   \n",
       "1   38.06    82    130        212     0.39   \n",
       "\n",
       "                                       unitsovertime banList KeySet betType  \\\n",
       "0  [100.0, 99.0, 99.83, 98.83, 99.66, 100.49, 99....      []     []   kills   \n",
       "1  [100.0, 99.0, 98.0, 98.83, 97.83, 96.83, 97.66...      []     []   kills   \n",
       "\n",
       "  choice  \n",
       "0  under  \n",
       "1   over  "
      ]
     },
     "execution_count": 4,
     "metadata": {},
     "output_type": "execute_result"
    }
   ],
   "source": [
    "df_top10_keys"
   ]
  },
  {
   "cell_type": "code",
   "execution_count": 5,
   "metadata": {},
   "outputs": [
    {
     "data": {
      "image/png": "[encoded data removed]",
      "text/plain": [
       "<Figure size 504x504 with 1 Axes>"
      ]
     },
     "metadata": {
      "needs_background": "light"
     },
     "output_type": "display_data"
    }
   ],
   "source": [
    "fig = plt.figure(figsize=(7,7))\n",
    "ax = fig.add_subplot(111)\n",
    "ax.plot(df_top10_keys['unitsovertime'][0])\n",
    "ax.set_xlabel('Number of games')\n",
    "ax.set_ylabel('Units')\n",
    "ax.xaxis.set_major_locator(ticker.MultipleLocator(10))\n",
    "ax.tick_params(axis='x', rotation=45)"
   ]
  },
  {
   "cell_type": "code",
   "execution_count": 9,
   "metadata": {},
   "outputs": [
    {
     "data": {
      "image/png": "[encoded data removed]",
      "text/plain": [
       "<Figure size 504x504 with 1 Axes>"
      ]
     },
     "metadata": {
      "needs_background": "light"
     },
     "output_type": "display_data"
    }
   ],
   "source": [
    "fig = plt.figure(figsize=(7,7))\n",
    "ax = fig.add_subplot(111)\n",
    "ax.plot(df_top10_keys['unitsovertime'][1])\n",
    "ax.set_xlabel('Number of games')\n",
    "ax.set_ylabel('Units')\n",
    "ax.xaxis.set_major_locator(ticker.MultipleLocator(10))\n",
    "ax.tick_params(axis='x', rotation=45)"
   ]
  },
  {
   "cell_type": "code",
   "execution_count": 3,
   "metadata": {},
   "outputs": [
    {
     "data": {
      "text/html": [
       "<div>\n",
       "<style scoped>\n",
       "    .dataframe tbody tr th:only-of-type {\n",
       "        vertical-align: middle;\n",
       "    }\n",
       "\n",
       "    .dataframe tbody tr th {\n",
       "        vertical-align: top;\n",
       "    }\n",
       "\n",
       "    .dataframe thead th {\n",
       "        text-align: right;\n",
       "    }\n",
       "</style>\n",
       "<table border=\"1\" class=\"dataframe\">\n",
       "  <thead>\n",
       "    <tr style=\"text-align: right;\">\n",
       "      <th></th>\n",
       "      <th>tournamentID</th>\n",
       "      <th>tournament_name</th>\n",
       "      <th>year</th>\n",
       "      <th>region</th>\n",
       "    </tr>\n",
       "  </thead>\n",
       "  <tbody>\n",
       "    <tr>\n",
       "      <th>0</th>\n",
       "      <td>1</td>\n",
       "      <td>LCK_Spring_2022</td>\n",
       "      <td>2022</td>\n",
       "      <td>LCK</td>\n",
       "    </tr>\n",
       "    <tr>\n",
       "      <th>1</th>\n",
       "      <td>2</td>\n",
       "      <td>LCK_Spring_Playoffs_2022</td>\n",
       "      <td>2022</td>\n",
       "      <td>LCK</td>\n",
       "    </tr>\n",
       "    <tr>\n",
       "      <th>2</th>\n",
       "      <td>3</td>\n",
       "      <td>LPL_Spring_2022</td>\n",
       "      <td>2022</td>\n",
       "      <td>LPL</td>\n",
       "    </tr>\n",
       "    <tr>\n",
       "      <th>3</th>\n",
       "      <td>4</td>\n",
       "      <td>LPL_Spring_Playoffs_2022</td>\n",
       "      <td>2022</td>\n",
       "      <td>LPL</td>\n",
       "    </tr>\n",
       "    <tr>\n",
       "      <th>4</th>\n",
       "      <td>5</td>\n",
       "      <td>LEC_Spring_2022</td>\n",
       "      <td>2022</td>\n",
       "      <td>LEC</td>\n",
       "    </tr>\n",
       "    <tr>\n",
       "      <th>5</th>\n",
       "      <td>6</td>\n",
       "      <td>LEC_Spring_Playoffs_2022</td>\n",
       "      <td>2022</td>\n",
       "      <td>LEC</td>\n",
       "    </tr>\n",
       "    <tr>\n",
       "      <th>6</th>\n",
       "      <td>7</td>\n",
       "      <td>LCS_Spring_2022</td>\n",
       "      <td>2022</td>\n",
       "      <td>LCS</td>\n",
       "    </tr>\n",
       "    <tr>\n",
       "      <th>7</th>\n",
       "      <td>8</td>\n",
       "      <td>LCS_Spring_Playoffs_2022</td>\n",
       "      <td>2022</td>\n",
       "      <td>LCS</td>\n",
       "    </tr>\n",
       "    <tr>\n",
       "      <th>8</th>\n",
       "      <td>9</td>\n",
       "      <td>MSI_2022</td>\n",
       "      <td>2022</td>\n",
       "      <td>MSI</td>\n",
       "    </tr>\n",
       "    <tr>\n",
       "      <th>9</th>\n",
       "      <td>10</td>\n",
       "      <td>LCK_Summer_2022</td>\n",
       "      <td>2022</td>\n",
       "      <td>LCK</td>\n",
       "    </tr>\n",
       "    <tr>\n",
       "      <th>10</th>\n",
       "      <td>11</td>\n",
       "      <td>LPL_Summer_2022</td>\n",
       "      <td>2022</td>\n",
       "      <td>LPL</td>\n",
       "    </tr>\n",
       "    <tr>\n",
       "      <th>11</th>\n",
       "      <td>12</td>\n",
       "      <td>LEC_Summer_2022</td>\n",
       "      <td>2022</td>\n",
       "      <td>LEC</td>\n",
       "    </tr>\n",
       "    <tr>\n",
       "      <th>12</th>\n",
       "      <td>13</td>\n",
       "      <td>LCS_Summer_2022</td>\n",
       "      <td>2022</td>\n",
       "      <td>LCS</td>\n",
       "    </tr>\n",
       "  </tbody>\n",
       "</table>\n",
       "</div>"
      ],
      "text/plain": [
       "    tournamentID           tournament_name  year region\n",
       "0              1           LCK_Spring_2022  2022    LCK\n",
       "1              2  LCK_Spring_Playoffs_2022  2022    LCK\n",
       "2              3           LPL_Spring_2022  2022    LPL\n",
       "3              4  LPL_Spring_Playoffs_2022  2022    LPL\n",
       "4              5           LEC_Spring_2022  2022    LEC\n",
       "5              6  LEC_Spring_Playoffs_2022  2022    LEC\n",
       "6              7           LCS_Spring_2022  2022    LCS\n",
       "7              8  LCS_Spring_Playoffs_2022  2022    LCS\n",
       "8              9                  MSI_2022  2022    MSI\n",
       "9             10           LCK_Summer_2022  2022    LCK\n",
       "10            11           LPL_Summer_2022  2022    LPL\n",
       "11            12           LEC_Summer_2022  2022    LEC\n",
       "12            13           LCS_Summer_2022  2022    LCS"
      ]
     },
     "execution_count": 3,
     "metadata": {},
     "output_type": "execute_result"
    }
   ],
   "source": [
    "df_numbers = pd.read_sql_query('SELECT * FROM tournaments', db.engine)\n",
    "df_numbers"
   ]
  },
  {
   "cell_type": "code",
   "execution_count": 6,
   "metadata": {},
   "outputs": [
    {
     "data": {
      "text/html": [
       "<div>\n",
       "<style scoped>\n",
       "    .dataframe tbody tr th:only-of-type {\n",
       "        vertical-align: middle;\n",
       "    }\n",
       "\n",
       "    .dataframe tbody tr th {\n",
       "        vertical-align: top;\n",
       "    }\n",
       "\n",
       "    .dataframe thead th {\n",
       "        text-align: right;\n",
       "    }\n",
       "</style>\n",
       "<table border=\"1\" class=\"dataframe\">\n",
       "  <thead>\n",
       "    <tr style=\"text-align: right;\">\n",
       "      <th></th>\n",
       "      <th>gameID</th>\n",
       "      <th>kills_num</th>\n",
       "      <th>kills_odds</th>\n",
       "      <th>dragons_num</th>\n",
       "      <th>dragons_odds</th>\n",
       "      <th>towers_num</th>\n",
       "      <th>towers_odds</th>\n",
       "      <th>barons_num</th>\n",
       "      <th>barons_odds</th>\n",
       "      <th>time_num</th>\n",
       "      <th>time_odds</th>\n",
       "      <th>winner_teamName</th>\n",
       "      <th>winner_odds</th>\n",
       "    </tr>\n",
       "  </thead>\n",
       "  <tbody>\n",
       "  </tbody>\n",
       "</table>\n",
       "</div>"
      ],
      "text/plain": [
       "Empty DataFrame\n",
       "Columns: [gameID, kills_num, kills_odds, dragons_num, dragons_odds, towers_num, towers_odds, barons_num, barons_odds, time_num, time_odds, winner_teamName, winner_odds]\n",
       "Index: []"
      ]
     },
     "execution_count": 6,
     "metadata": {},
     "output_type": "execute_result"
    }
   ],
   "source": [
    "oddsTable = pd.read_sql_query('SELECT * FROM oddsTable', db.engine)\n",
    "oddsTable"
   ]
  }
 ],
 "metadata": {
  "kernelspec": {
   "display_name": "Python 3.10.4 64-bit",
   "language": "python",
   "name": "python3"
  },
  "language_info": {
   "codemirror_mode": {
    "name": "ipython",
    "version": 3
   },
   "file_extension": ".py",
   "mimetype": "text/x-python",
   "name": "python",
   "nbconvert_exporter": "python",
   "pygments_lexer": "ipython3",
   "version": "3.10.4"
  },
  "orig_nbformat": 4,
  "vscode": {
   "interpreter": {
    "hash": "102d927d7cd6c9f541c7b7496c6cf931d1c101ccf1482e5917cc46640c1e3602"
   }
  }
 },
 "nbformat": 4,
 "nbformat_minor": 2
}
