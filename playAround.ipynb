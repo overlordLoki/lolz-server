{
 "cells": [
  {
   "cell_type": "code",
   "execution_count": 1,
   "metadata": {},
   "outputs": [],
   "source": [
    "import pandas as pd\n",
    "import sqlalchemy as sql\n",
    "import database as db\n",
    "import betSim as bs\n",
    "import mysql.connector as mysql"
   ]
  },
  {
   "cell_type": "code",
   "execution_count": 2,
   "metadata": {},
   "outputs": [],
   "source": [
    "df = db.getTable('LCK_Summer_2022')"
   ]
  },
  {
   "cell_type": "code",
   "execution_count": 3,
   "metadata": {},
   "outputs": [
    {
     "name": "stdout",
     "output_type": "stream",
     "text": [
      "units: 87.23999999999995\n"
     ]
    }
   ],
   "source": [
    "# very basic simulation of a beting strategy\n",
    "units =100.0\n",
    "for i in range(len(df)):\n",
    "    if (units < 1):\n",
    "        print(f'no more units left after {str(i)} games')\n",
    "        break\n",
    "    outcome = bs.killsBet(i, df, 'under', 21.5)\n",
    "    if(outcome == 1):\n",
    "        units += 0.83\n",
    "    else:\n",
    "        units -= 1\n",
    "\n",
    "print(f'units: {str(units)}')"
   ]
  },
  {
   "cell_type": "code",
   "execution_count": 1,
   "metadata": {},
   "outputs": [],
   "source": [
    "import matplotlib.pyplot as plt\n"
   ]
  },
  {
   "cell_type": "code",
   "execution_count": 5,
   "metadata": {},
   "outputs": [
    {
     "data": {
      "text/plain": [
       "[<matplotlib.lines.Line2D at 0x199012b28c0>]"
      ]
     },
     "execution_count": 5,
     "metadata": {},
     "output_type": "execute_result"
    },
    {
     "data": {
      "image/png": "[encoded data removed]",
      "text/plain": [
       "<Figure size 432x288 with 1 Axes>"
      ]
     },
     "metadata": {
      "needs_background": "light"
     },
     "output_type": "display_data"
    }
   ],
   "source": [
    "#plot total kills over the tournament\n",
    "plt.plot(df['Total_kills'])"
   ]
  },
  {
   "cell_type": "code",
   "execution_count": 14,
   "metadata": {},
   "outputs": [],
   "source": [
    "df_firstGame = pd.read_sql_query('SELECT * From games where tournamentID = 5 and Num_in_Match = 1', db.engine)"
   ]
  },
  {
   "cell_type": "code",
   "execution_count": 15,
   "metadata": {},
   "outputs": [
    {
     "name": "stdout",
     "output_type": "stream",
     "text": [
      "90\n"
     ]
    }
   ],
   "source": [
    "#plt.plot(df_firstGame['Total_kills'])\n",
    "print(len(df_firstGame))"
   ]
  },
  {
   "cell_type": "code",
   "execution_count": 2,
   "metadata": {},
   "outputs": [
    {
     "ename": "IndentationError",
     "evalue": "expected an indented block after 'if' statement on line 7 (3638535561.py, line 8)",
     "output_type": "error",
     "traceback": [
      "\u001b[1;36m  Input \u001b[1;32mIn [2]\u001b[1;36m\u001b[0m\n\u001b[1;33m    outcome = bs.killsBet(i, df, choice, num)\u001b[0m\n\u001b[1;37m    ^\u001b[0m\n\u001b[1;31mIndentationError\u001b[0m\u001b[1;31m:\u001b[0m expected an indented block after 'if' statement on line 7\n"
     ]
    }
   ],
   "source": [
    "def runSim(df,choice,num,betType):\n",
    "    units = 100.0\n",
    "    wins = 0\n",
    "    loses = 0\n",
    "    for i in range(df):\n",
    "        if (units < 1):\n",
    "            print(f'no more units left after {str(i)} games')\n",
    "            return units , wins, loses\n",
    "        if(betType == 'kills'):\n",
    "            outcome = bs.killsBet(i, df, choice, num)\n",
    "        elif(betType == 'dragons'):\n",
    "            outcome = bs.dragonsBet(i, df, choice, num)\n",
    "        elif(betType == 'barons'):\n",
    "            outcome = bs.baronsBet(i, df, choice, num)\n",
    "        elif(betType == 'tower'):\n",
    "            outcome = bs.towerBet(i, df, choice, num)\n",
    "        elif(betType == 'time'):\n",
    "            outcome = bs.gameTimeBet(i, df, choice, num)\n",
    "        else:\n",
    "            print('invalid bet type')\n",
    "            return 0 , wins, loses\n",
    "        if(outcome == 1):\n",
    "            units += 0.83\n",
    "        else:\n",
    "            units -= 1\n",
    "    return units , wins, loses"
   ]
  },
  {
   "cell_type": "code",
   "execution_count": 19,
   "metadata": {},
   "outputs": [
    {
     "name": "stdout",
     "output_type": "stream",
     "text": [
      "code died at 64\n",
      "units: 87.23999999999995\n",
      "wins: 28\n",
      "loses: 36\n",
      "total bets: 64\n",
      "winrate: 0.44\n"
     ]
    }
   ],
   "source": [
    "# very basic simulation of a beting strategy\n",
    "units =100.0\n",
    "wins = 0\n",
    "loses = 0\n",
    "for i in range(len(df_firstGame)):\n",
    "    if (units < 1):\n",
    "        print(f'no more units left after {str(i)} games')\n",
    "        break\n",
    "    try:\n",
    "        outcome = bs.killsBet(i, df, 'under', 21.5)\n",
    "    except Exception:\n",
    "        print(f'code died at {i}')\n",
    "        break\n",
    "    wins += outcome\n",
    "    loses += 1 - outcome\n",
    "    if(outcome == 1):\n",
    "        units += 0.83\n",
    "    else:\n",
    "        units -= 1\n",
    "\n",
    "print(f'units: {str(units)}')\n",
    "totalbets = wins + loses\n",
    "print(f'wins: {str(wins)}')\n",
    "print(f'loses: {str(loses)}')\n",
    "print(f'total bets: {str(totalbets)}')\n",
    "winrate = round(wins/totalbets,2)\n",
    "print(f'winrate: {str(winrate)}')"
   ]
  }
 ],
 "metadata": {
  "kernelspec": {
   "display_name": "Python 3.10.5 64-bit",
   "language": "python",
   "name": "python3"
  },
  "language_info": {
   "codemirror_mode": {
    "name": "ipython",
    "version": 3
   },
   "file_extension": ".py",
   "mimetype": "text/x-python",
   "name": "python",
   "nbconvert_exporter": "python",
   "pygments_lexer": "ipython3",
   "version": "3.10.5"
  },
  "orig_nbformat": 4,
  "vscode": {
   "interpreter": {
    "hash": "369f2c481f4da34e4445cda3fffd2e751bd1c4d706f27375911949ba6bb62e1c"
   }
  }
 },
 "nbformat": 4,
 "nbformat_minor": 2
}
