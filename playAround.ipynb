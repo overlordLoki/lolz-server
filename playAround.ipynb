{
 "cells": [
  {
   "cell_type": "code",
   "execution_count": 1,
   "metadata": {},
   "outputs": [],
   "source": [
    "import pandas as pd\n",
    "import sqlalchemy as sql\n",
    "import database as db\n",
    "import betSim as bs\n",
    "import mysql.connector as mysql\n",
    "from itertools import combinations\n",
    "import matplotlib.pyplot as plt"
   ]
  },
  {
   "cell_type": "code",
   "execution_count": 2,
   "metadata": {},
   "outputs": [],
   "source": [
    "df = db.getTable('LCK_Summer_2022')"
   ]
  },
  {
   "cell_type": "code",
   "execution_count": 3,
   "metadata": {},
   "outputs": [
    {
     "name": "stdout",
     "output_type": "stream",
     "text": [
      "units: 87.23999999999995\n"
     ]
    }
   ],
   "source": [
    "# very basic simulation of a beting strategy\n",
    "units =100.0\n",
    "for i in range(len(df)):\n",
    "    if (units < 1):\n",
    "        print(f'no more units left after {str(i)} games')\n",
    "        break\n",
    "    outcome = bs.killsBet(i, df, 'under', 21.5)\n",
    "    if(outcome == 1):\n",
    "        units += 0.83\n",
    "    else:\n",
    "        units -= 1\n",
    "\n",
    "print(f'units: {str(units)}')"
   ]
  },
  {
   "cell_type": "code",
   "execution_count": 5,
   "metadata": {},
   "outputs": [],
   "source": [
    "\n"
   ]
  },
  {
   "cell_type": "code",
   "execution_count": 5,
   "metadata": {},
   "outputs": [
    {
     "data": {
      "text/plain": [
       "[<matplotlib.lines.Line2D at 0x247df3a16f0>]"
      ]
     },
     "execution_count": 5,
     "metadata": {},
     "output_type": "execute_result"
    },
    {
     "data": {
      "image/png": "[encoded data removed]",
      "text/plain": [
       "<Figure size 432x288 with 1 Axes>"
      ]
     },
     "metadata": {
      "needs_background": "light"
     },
     "output_type": "display_data"
    }
   ],
   "source": [
    "#plot total kills over the tournament\n",
    "plt.plot(df['Total_kills'])"
   ]
  },
  {
   "cell_type": "code",
   "execution_count": 30,
   "metadata": {},
   "outputs": [],
   "source": [
    "df_firstGame = pd.read_sql_query('SELECT * From games where tournamentID = 1 and Num_in_Match = 1', db.engine)\n",
    "df_testing = pd.read_sql_query('SELECT * FROM games WHERE tournamentID = 1', db.engine)"
   ]
  },
  {
   "cell_type": "code",
   "execution_count": 7,
   "metadata": {},
   "outputs": [
    {
     "name": "stdout",
     "output_type": "stream",
     "text": [
      "90\n"
     ]
    }
   ],
   "source": [
    "#plt.plot(df_firstGame['Total_kills'])\n",
    "print(len(df_firstGame))"
   ]
  },
  {
   "cell_type": "code",
   "execution_count": 15,
   "metadata": {},
   "outputs": [],
   "source": [
    "def runSim(df ,choice,num,betType,banList):\n",
    "    units = 100.0\n",
    "    wins = 0\n",
    "    loses = 0\n",
    "    for i in range(len(df)):\n",
    "        blueteam = df['Blue_Team_Name'][i]\n",
    "        redteam = df['Red_Team_Name'][i]\n",
    "        if (blueteam in banList) or (redteam in banList):\n",
    "            continue\n",
    "        if (units < 1):\n",
    "            print(f'no more units left after {str(i)} games')\n",
    "            return units , wins, loses\n",
    "        if(betType == 'kills'):\n",
    "            outcome = bs.killsBet(i, df, choice, num)\n",
    "        elif(betType == 'dragons'):\n",
    "            outcome = bs.dragonsBet(i, df, choice, num)\n",
    "        elif(betType == 'barons'):\n",
    "            outcome = bs.baronsBet(i, df, choice, num)\n",
    "        elif(betType == 'tower'):\n",
    "            outcome = bs.towerBet(i, df, choice, num)\n",
    "        elif(betType == 'time'):\n",
    "            outcome = bs.gameTimeBet(i, df, choice, num)\n",
    "        else:\n",
    "            print('invalid bet type')\n",
    "            return units , wins, loses\n",
    "        wins += outcome\n",
    "        loses += 1 - outcome\n",
    "        if(outcome == 1):\n",
    "            units += 0.83\n",
    "        else:\n",
    "            units -= 1\n",
    "    return units , wins, loses"
   ]
  },
  {
   "cell_type": "code",
   "execution_count": 24,
   "metadata": {},
   "outputs": [],
   "source": [
    "def makeCombos(input):\n",
    "    output = sum([list(map(list, combinations(input, i))) for i in range(len(input) + 1)], [])\n",
    "    return output"
   ]
  },
  {
   "cell_type": "code",
   "execution_count": 2,
   "metadata": {},
   "outputs": [],
   "source": [
    "df_testing = pd.read_sql_query('SELECT * FROM games WHERE tournamentID = 1', db.engine)"
   ]
  },
  {
   "cell_type": "code",
   "execution_count": 33,
   "metadata": {},
   "outputs": [
    {
     "name": "stdout",
     "output_type": "stream",
     "text": [
      "best outcome: \n",
      "best exclude list: \n",
      "['Kwangdong Freecs', 'DWG KIA']\n",
      "units: 130.86999999999992\n",
      "wins: 89\n",
      "loses: 43\n",
      "total bets: 132\n",
      "winrate: 0.67\n"
     ]
    }
   ],
   "source": [
    "#simulation of a beting strategy\n",
    "tournament_name = df_testing['tournament_name'][0]\n",
    "teamsList = db.getTeamNames(tournament_name)\n",
    "banlistCombo = makeCombos(teamsList)\n",
    "units =100.0\n",
    "wins = 0\n",
    "loses = 0\n",
    "bestbanlist = []\n",
    "for banlist in banlistCombo:\n",
    "    testUnits = 100\n",
    "    testWins = 0\n",
    "    testLoses = 0\n",
    "    testUnits , testWins, testLoses = runSim(df_testing, 'under', 21.5, 'kills', banlist)\n",
    "    if(testUnits > units):\n",
    "        units = testUnits\n",
    "        wins = testWins\n",
    "        loses = testLoses\n",
    "        bestbanlist = banlist\n",
    "print('best outcome: ')\n",
    "print('best exclude list: ')\n",
    "print(bestbanlist)\n",
    "print(f'units: {str(units)}')\n",
    "totalbets = wins + loses\n",
    "print(f'wins: {str(wins)}')\n",
    "print(f'loses: {str(loses)}')\n",
    "print(f'total bets: {str(totalbets)}')\n",
    "winrate = round(wins/totalbets,2)\n",
    "print(f'winrate: {str(winrate)}')"
   ]
  },
  {
   "cell_type": "code",
   "execution_count": 1,
   "metadata": {},
   "outputs": [],
   "source": [
    "import pandas as pd\n",
    "import sqlalchemy as sql\n",
    "import database as db\n",
    "import betSim as bs\n",
    "import mysql.connector as mysql\n",
    "from itertools import combinations\n",
    "import matplotlib.pyplot as plt\n",
    "df_testing = pd.read_sql_query('SELECT * FROM games WHERE tournamentID = 1', db.engine)\n"
   ]
  },
  {
   "cell_type": "code",
   "execution_count": 2,
   "metadata": {},
   "outputs": [
    {
     "data": {
      "text/plain": [
       "(['Kwangdong Freecs', 'DWG KIA'], 130.86999999999992, 89, 43, 0.67, 132)"
      ]
     },
     "execution_count": 2,
     "metadata": {},
     "output_type": "execute_result"
    }
   ],
   "source": [
    "bs.bestTeamSim(df_testing)"
   ]
  },
  {
   "cell_type": "code",
   "execution_count": 2,
   "metadata": {},
   "outputs": [],
   "source": [
    "bestbanlist, units , wins, loses, winrate, totalbets, unitsOvertime = bs.bestTeamSim(df_testing)\n"
   ]
  },
  {
   "cell_type": "code",
   "execution_count": 3,
   "metadata": {},
   "outputs": [
    {
     "name": "stdout",
     "output_type": "stream",
     "text": [
      "best outcome: \n",
      "best exclude list: \n",
      "['DWG KIA', 'Kwangdong Freecs']\n",
      "units: 130.86999999999992\n",
      "wins: 89\n",
      "loses: 43\n",
      "total bets: 132\n",
      "winrate: 0.67\n"
     ]
    }
   ],
   "source": [
    "print('best outcome: ')\n",
    "print('best exclude list: ')\n",
    "print(bestbanlist)\n",
    "print(f'units: {str(units)}')\n",
    "print(f'wins: {str(wins)}')\n",
    "print(f'loses: {str(loses)}')\n",
    "print(f'total bets: {str(totalbets)}')\n",
    "print(f'winrate: {str(winrate)}')\n"
   ]
  },
  {
   "cell_type": "code",
   "execution_count": 6,
   "metadata": {},
   "outputs": [
    {
     "data": {
      "text/plain": [
       "[<matplotlib.lines.Line2D at 0x2687e952140>]"
      ]
     },
     "execution_count": 6,
     "metadata": {},
     "output_type": "execute_result"
    },
    {
     "data": {
      "image/png": "[encoded data removed]",
      "text/plain": [
       "<Figure size 432x288 with 1 Axes>"
      ]
     },
     "metadata": {
      "needs_background": "light"
     },
     "output_type": "display_data"
    }
   ],
   "source": [
    "plt.plot(unitsOvertime)"
   ]
  }
 ],
 "metadata": {
  "kernelspec": {
   "display_name": "Python 3.10.4 64-bit",
   "language": "python",
   "name": "python3"
  },
  "language_info": {
   "codemirror_mode": {
    "name": "ipython",
    "version": 3
   },
   "file_extension": ".py",
   "mimetype": "text/x-python",
   "name": "python",
   "nbconvert_exporter": "python",
   "pygments_lexer": "ipython3",
   "version": "3.10.4"
  },
  "orig_nbformat": 4,
  "vscode": {
   "interpreter": {
    "hash": "102d927d7cd6c9f541c7b7496c6cf931d1c101ccf1482e5917cc46640c1e3602"
   }
  }
 },
 "nbformat": 4,
 "nbformat_minor": 2
}
