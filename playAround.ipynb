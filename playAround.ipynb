{
 "cells": [
  {
   "cell_type": "code",
   "execution_count": 1,
   "metadata": {},
   "outputs": [],
   "source": [
    "import pandas as pd\n",
    "import sqlalchemy as sql\n",
    "import database as db\n",
    "import betSim as bs\n",
    "import mysql.connector as mysql"
   ]
  },
  {
   "cell_type": "code",
   "execution_count": 2,
   "metadata": {},
   "outputs": [
    {
     "data": {
      "text/plain": [
       "['T1',\n",
       " 'Gen.G eSports',\n",
       " 'DRX',\n",
       " 'Nongshim RedForce',\n",
       " 'Hanwha Life eSports',\n",
       " 'KT Rolster',\n",
       " 'Liiv SANDBOX',\n",
       " 'Kwangdong Freecs',\n",
       " 'DWG KIA',\n",
       " 'Fredit BRION']"
      ]
     },
     "execution_count": 2,
     "metadata": {},
     "output_type": "execute_result"
    }
   ],
   "source": [
    "db.getTeamNames('LCK_Summer_2022')"
   ]
  },
  {
   "cell_type": "code",
   "execution_count": 8,
   "metadata": {},
   "outputs": [
    {
     "name": "stdout",
     "output_type": "stream",
     "text": [
      "units: 147.86000000000044\n"
     ]
    }
   ],
   "source": [
    "# very basic simulation of a beting strategy\n",
    "units =100.0\n",
    "for i in range(len(df)):\n",
    "    if (units < 1):\n",
    "        print(f'no more units left after {str(i)} games')\n",
    "        break\n",
    "    outcome = bs.towerBet(i, df, 'under', 11.5)\n",
    "    if(outcome == 1):\n",
    "        units += 0.83\n",
    "    else:\n",
    "        units -= 1\n",
    "\n",
    "print(f'units: {str(units)}')"
   ]
  },
  {
   "cell_type": "code",
   "execution_count": 5,
   "metadata": {},
   "outputs": [
    {
     "name": "stdout",
     "output_type": "stream",
     "text": [
      "[('information_schema',), ('lolz',), ('mysql',), ('performance_schema',), ('sys',), ('test',)]\n"
     ]
    }
   ],
   "source": [
    "#test if the database is working\n",
    "db_test = mysql.connect(host='140.238.205.186', user='loki', passwd='Thethethe3!', database='lolz')\n",
    "mycursor = db_test.cursor()\n",
    "mycursor.execute('SHOW DATABASES')\n",
    "print(mycursor.fetchall())"
   ]
  }
 ],
 "metadata": {
  "kernelspec": {
   "display_name": "Python 3.10.4 64-bit",
   "language": "python",
   "name": "python3"
  },
  "language_info": {
   "codemirror_mode": {
    "name": "ipython",
    "version": 3
   },
   "file_extension": ".py",
   "mimetype": "text/x-python",
   "name": "python",
   "nbconvert_exporter": "python",
   "pygments_lexer": "ipython3",
   "version": "3.10.4"
  },
  "orig_nbformat": 4,
  "vscode": {
   "interpreter": {
    "hash": "102d927d7cd6c9f541c7b7496c6cf931d1c101ccf1482e5917cc46640c1e3602"
   }
  }
 },
 "nbformat": 4,
 "nbformat_minor": 2
}
